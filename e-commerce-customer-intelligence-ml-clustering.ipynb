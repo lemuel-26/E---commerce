{
 "cells": [
  {
   "cell_type": "markdown",
   "id": "440f0a4d",
   "metadata": {},
   "source": [
    "<h2 style=\"\n",
    "    color: white; \n",
    "    text-align: center; \n",
    "    background-color: #000000ff; \n",
    "    border-radius: 10px;\n",
    "    padding: 10px;\">\n",
    "\n",
    "**Trabajo de Recursamiento**\n",
    "\n",
    "</h2>\n",
    "<h3 style=\"\n",
    "    color: white; \n",
    "    text-align: left; \n",
    "    background-color: #000000ff; \n",
    "    border-radius: 10px;\n",
    "    padding: 10px;\">\n",
    "\n",
    "**Creado por:** T.S.U. Omar Lemuel Espejel Lira \n",
    "\n",
    "**Asignatura:** Extraccion de Conocimientos en Bases de Datos\n",
    "\n",
    "**PE:** Ingeniería en Desarrollo y Gestión de Software \n",
    "\n",
    "**Docente:** M.T.I. Marco Antonio Ramíerez Hernández\n",
    "</h3>"
   ]
  },
  {
   "cell_type": "markdown",
   "id": "9822709e",
   "metadata": {},
   "source": [
    "\n",
    "\n",
    "---\n",
    "\n",
    "## 📄 **Resumen del proyecto: Análisis global de clientes de comercio electrónico**\n",
    "\n",
    "En este proyecto, se utilizó un conjunto de datos sintéticos globales de clientes de comercio electrónico, que contiene el historial de transacciones de cada cliente, su comportamiento de fidelización, el riesgo de fraude y la probabilidad de abandono. El conjunto de datos incluye características demográficas, conductuales y transaccionales, lo que lo hace ideal para un proyecto completo de análisis de comercio minorista.\n",
    "\n",
    "### **Objetivos del proyecto:**\n",
    "\n",
    "* Predecir el riesgo de abandono y fraude\n",
    "* Segmentar a los clientes mediante clusterización\n",
    "* Generar visualizaciones y paneles de control detallados\n",
    "\n",
    "---\n",
    "\n",
    "## 🤖 **Tecnologías de aprendizaje automático utilizadas**\n",
    "\n",
    "### 🔍 **1. Aprendizaje supervisado: modelos de clasificación**\n",
    "\n",
    "Entrenamos 10 modelos de clasificación para predecir la columna `is_fraudulent`:\n",
    "\n",
    "| Modelo                        | Propósito                                 | Tipo                  |\n",
    "| ---------------------------- | ----------------------------------------- | --------------------- |\n",
    "| Logistic Regression          | Clasificador lineal básico                | Modelo Lineal         |\n",
    "| K-Nearest Neighbors (KNN)    | Decisión basada en vecinos más cercanos  | Basado en Instancias  |\n",
    "| Support Vector Machine (SVM) | Separación de clases con hiperplanos     | Basado en Márgenes    |\n",
    "| Decision Tree                | Clasificación basada en reglas           | Basado en Árbol       |\n",
    "| Random Forest                | Conjunto de múltiples árboles de decisión | Ensamble              |\n",
    "| Gradient Boosting            | Corrige errores del modelo anterior       | Boosting              |\n",
    "| XGBoost                      | Versión avanzada de Gradient Boosting     | Boosting              |\n",
    "| LightGBM                     | Boosting rápido y ligero                  | Boosting              |\n",
    "| AdaBoost                     | Aprende con clasificadores débiles ponderados | Boosting         |\n",
    "| Naive Bayes                  | Clasificación basada en probabilidad      | Probabilístico        |\n",
    "\n",
    "\n",
    "✔️ Cada modelo se evaluó utilizando “exactitud”, “precisión”, “recuperación” y “puntuación F1”.\n",
    "\n",
    "---\n",
    "\n",
    "### 🧩 **2. Aprendizaje no supervisado: modelos de agrupamiento**\n",
    "\n",
    "Utilizamos tres modelos de clusterización para la segmentación de clientes:\n",
    "\n",
    "| Modelo                   | Técnica                   | Uso                                        |\n",
    "| ------------------------ | ------------------------- | ------------------------------------------ |\n",
    "| KMeans                   | Clustering basado en centros | Agrupar clientes con comportamientos similares |\n",
    "| DBSCAN                   | Clustering basado en densidad | Identificar grupos propensos al fraude o anomalías |\n",
    "| Agglomerative Clustering | Agrupamiento jerárquico     | Comprender las relaciones entre clústeres     |\n",
    "\n",
    "\n",
    "✔️ Se utilizó PCA para la visualización 2D de clústeres.\n",
    "\n",
    "---\n",
    "\n",
    "### 📊 **3. Visualización y panel de control**\n",
    "\n",
    "Se crearon visualizaciones interactivas y paneles de control con Plotly y Matplotlib:\n",
    "\n",
    "* Tasa de abandono vs. fidelización\n",
    "* Tasa de fraude por país\n",
    "* Perfiles de clientes por clúster\n",
    "\n",
    "---\n",
    "\n",
    "## 🚀 **Conclusion**\n",
    "\n",
    "Combinando aprendizaje automático y visualización:\n",
    "\n",
    "* Predije clientes fraudulentos y propensos a la pérdida de clientes\n",
    "* Realicé una segmentación significativa de clientes\n",
    "* Analicé el comportamiento de los clientes para una mejor toma de decisiones\n",
    "\n",
    "Este proyecto simula con éxito un entorno real de análisis de comercio electrónico, lo que facilita el modelado predictivo y la planificación estratégica.\n",
    "\n",
    "---"
   ]
  },
  {
   "cell_type": "markdown",
   "id": "71ecb67d",
   "metadata": {},
   "source": [
    "<h3 style=\"\n",
    "    color: white; \n",
    "    text-align: center; \n",
    "    background-color: #3498db; \n",
    "    border-radius: 10px;\n",
    "    padding: 10px;\">\n",
    " Importamos librerias\n",
    "</h3>\n"
   ]
  },
  {
   "cell_type": "code",
   "execution_count": null,
   "id": "fc0a77bf",
   "metadata": {},
   "outputs": [],
   "source": [
    "import pandas as pd\n",
    "import numpy as np\n",
    "import matplotlib.pyplot as plt\n",
    "import seaborn as sns\n",
    "from datetime import datetime\n",
    "\n",
    "sns.set(style=\"whitegrid\")\n",
    "\n",
    "import warnings\n",
    "warnings.filterwarnings(\"ignore\")\n"
   ]
  },
  {
   "cell_type": "markdown",
   "id": "12b63c90",
   "metadata": {},
   "source": [
    "### 📝 Explicación del código anterior\n",
    "- Aquí se genera una gráfica con `Seaborn` o `Matplotlib`. Estas herramientas ayudan a visualizar los datos para identificar patrones o distribuciones relevantes."
   ]
  },
  {
   "cell_type": "markdown",
   "id": "72bcde43",
   "metadata": {},
   "source": [
    "<h3 style=\"\n",
    "    color: white; \n",
    "    text-align: center; \n",
    "    background-color: #3498db; \n",
    "    border-radius: 10px;\n",
    "    padding: 10px;\">\n",
    " Cargar conjunto de datos\n",
    "</h3>\n"
   ]
  },
  {
   "cell_type": "code",
   "execution_count": null,
   "id": "98b28a92",
   "metadata": {},
   "outputs": [],
   "source": [
    "df = pd.read_csv(\"C:/Users/olespejel_externo/Downloads/archive/synthetic_ecommerce_churn_dataset.csv\")\n",
    "df.head()\n"
   ]
  },
  {
   "cell_type": "markdown",
   "id": "0114391b",
   "metadata": {},
   "source": [
    "### 📝 Explicación del código anterior\n",
    "- Se está cargando el conjunto de datos desde un archivo CSV usando `pandas`. Esto permite trabajar con datos estructurados como si fueran una hoja de cálculo."
   ]
  },
  {
   "cell_type": "markdown",
   "id": "9fe66a7f",
   "metadata": {},
   "source": [
    "<h3 style=\"\n",
    "    color: white; \n",
    "    text-align: center; \n",
    "    background-color: #3498db; \n",
    "    border-radius: 10px;\n",
    "    padding: 10px;\">\n",
    "Explora el conjunto de datos\n",
    "</h3>\n"
   ]
  },
  {
   "cell_type": "code",
   "execution_count": null,
   "id": "1e70fab4",
   "metadata": {},
   "outputs": [],
   "source": [
    "df.info()\n",
    "df.describe()\n"
   ]
  },
  {
   "cell_type": "markdown",
   "id": "93ec359e",
   "metadata": {},
   "source": [
    "### 📝 Explicación del código anterior\n",
    "- Este bloque realiza una operación de análisis, limpieza o transformación de los datos. Es parte del flujo de preparación del dataset."
   ]
  },
  {
   "cell_type": "code",
   "execution_count": null,
   "id": "8b4026e5",
   "metadata": {},
   "outputs": [],
   "source": [
    "df.isnull().sum()\n"
   ]
  },
  {
   "cell_type": "markdown",
   "id": "fdc9feff",
   "metadata": {},
   "source": [
    "### 📝 Explicación del código anterior\n",
    "- Este bloque realiza una operación de análisis, limpieza o transformación de los datos. Es parte del flujo de preparación del dataset."
   ]
  },
  {
   "cell_type": "code",
   "execution_count": null,
   "id": "48573c49",
   "metadata": {},
   "outputs": [],
   "source": [
    "df[\"email_open_rate\"].head()"
   ]
  },
  {
   "cell_type": "markdown",
   "id": "de1302de",
   "metadata": {},
   "source": [
    "### 📝 Explicación del código anterior\n",
    "- Este bloque realiza una operación de análisis, limpieza o transformación de los datos. Es parte del flujo de preparación del dataset."
   ]
  },
  {
   "cell_type": "code",
   "execution_count": null,
   "id": "1152d983",
   "metadata": {},
   "outputs": [],
   "source": [
    "df[\"avg_order_value\"].head()"
   ]
  },
  {
   "cell_type": "markdown",
   "id": "b72aefb5",
   "metadata": {},
   "source": [
    "### 📝 Explicación del código anterior\n",
    "- Este bloque realiza una operación de análisis, limpieza o transformación de los datos. Es parte del flujo de preparación del dataset."
   ]
  },
  {
   "cell_type": "code",
   "execution_count": null,
   "id": "182761fe",
   "metadata": {},
   "outputs": [],
   "source": [
    "df.shape"
   ]
  },
  {
   "cell_type": "markdown",
   "id": "2b648d15",
   "metadata": {},
   "source": [
    "### 📝 Explicación del código anterior\n",
    "- Este bloque realiza una operación de análisis, limpieza o transformación de los datos. Es parte del flujo de preparación del dataset."
   ]
  },
  {
   "cell_type": "markdown",
   "id": "e8a786fa",
   "metadata": {},
   "source": [
    "<h3 style=\"\n",
    "    color: white; \n",
    "    text-align: center; \n",
    "    background-color: #3498db; \n",
    "    border-radius: 10px;\n",
    "    padding: 10px;\"> \n",
    "Las columnas numéricas contienen valores nan.\n",
    "</h3>\n"
   ]
  },
  {
   "cell_type": "code",
   "execution_count": null,
   "id": "2cc6f34c",
   "metadata": {},
   "outputs": [],
   "source": [
    "df['avg_order_value'].fillna(df['avg_order_value'].mean(), inplace=True)\n",
    "df['email_open_rate'].fillna(df['email_open_rate'].mean(), inplace=True)\n"
   ]
  },
  {
   "cell_type": "markdown",
   "id": "c567928e",
   "metadata": {},
   "source": [
    "### 📝 Explicación del código anterior\n",
    "- Este bloque realiza una operación de análisis, limpieza o transformación de los datos. Es parte del flujo de preparación del dataset."
   ]
  },
  {
   "cell_type": "markdown",
   "id": "8e2ca9b0",
   "metadata": {},
   "source": [
    "<h3 style=\"\n",
    "    color: white; \n",
    "    text-align: center; \n",
    "    background-color: #3498db; \n",
    "    border-radius: 10px;\n",
    "    padding: 10px;\">\n",
    "Valor único de la columna categórica\n",
    "</h3>\n"
   ]
  },
  {
   "cell_type": "code",
   "execution_count": null,
   "id": "65d78b34",
   "metadata": {},
   "outputs": [],
   "source": [
    "df['gender'].value_counts()\n",
    "df['country'].nunique()\n",
    "df['preferred_category'].value_counts()\n"
   ]
  },
  {
   "cell_type": "markdown",
   "id": "53947942",
   "metadata": {},
   "source": [
    "### 📝 Explicación del código anterior\n",
    "- Se está agrupando o contando datos para obtener distribuciones, como cuántos clientes hay por país o por género."
   ]
  },
  {
   "cell_type": "markdown",
   "id": "98fc0aca",
   "metadata": {},
   "source": [
    "<h3 style=\"\n",
    "    color: white; \n",
    "    text-align: center; \n",
    "    background-color: #3498db; \n",
    "    border-radius: 10px;\n",
    "    padding: 10px;\">\n",
    "Visualización - Distribución de género\n",
    "</h3>\n"
   ]
  },
  {
   "cell_type": "code",
   "execution_count": null,
   "id": "daf2e4aa",
   "metadata": {},
   "outputs": [],
   "source": [
    "sns.countplot(data=df, x='gender', palette='Set2')\n",
    "plt.title(\"Gender Distribution\")\n",
    "plt.show()\n"
   ]
  },
  {
   "cell_type": "markdown",
   "id": "ee593677",
   "metadata": {},
   "source": [
    "### 📝 Explicación del código anterior\n",
    "- Aquí se genera una gráfica con `Seaborn` o `Matplotlib`. Estas herramientas ayudan a visualizar los datos para identificar patrones o distribuciones relevantes."
   ]
  },
  {
   "cell_type": "markdown",
   "id": "05c4e727",
   "metadata": {},
   "source": [
    "<h3 style=\"\n",
    "    color: white; \n",
    "    text-align: center; \n",
    "    background-color: #3498db; \n",
    "    border-radius: 10px;\n",
    "    padding: 10px;\">\n",
    "Distribución de edad\n",
    "</h3>\n"
   ]
  },
  {
   "cell_type": "code",
   "execution_count": null,
   "id": "d5b3746e",
   "metadata": {},
   "outputs": [],
   "source": [
    "sns.histplot(df['age'], bins=20, kde=True)\n",
    "plt.title(\"Age Distribution of Customers\")\n",
    "plt.xlabel(\"Age\")\n",
    "plt.show()\n"
   ]
  },
  {
   "cell_type": "markdown",
   "id": "a67b9078",
   "metadata": {},
   "source": [
    "### 📝 Explicación del código anterior\n",
    "- Aquí se genera una gráfica con `Seaborn` o `Matplotlib`. Estas herramientas ayudan a visualizar los datos para identificar patrones o distribuciones relevantes."
   ]
  },
  {
   "cell_type": "markdown",
   "id": "091525b6",
   "metadata": {},
   "source": [
    "<h3 style=\"\n",
    "    color: white; \n",
    "    text-align: center; \n",
    "    background-color: #3498db; \n",
    "    border-radius: 10px;\n",
    "    padding: 10px;\">\n",
    "Clientes fraudulentos vs no fraudulentos\n",
    "</h3>\n"
   ]
  },
  {
   "cell_type": "code",
   "execution_count": null,
   "id": "0e7e3f75",
   "metadata": {},
   "outputs": [],
   "source": [
    "sns.countplot(data=df, x='is_fraudulent', palette='Set1')\n",
    "plt.title(\"Fraudulent vs Non-Fraudulent Customers\")\n",
    "plt.xticks([0,1], ['Not Fraud', 'Fraud'])\n",
    "plt.show()\n"
   ]
  },
  {
   "cell_type": "markdown",
   "id": "f312774c",
   "metadata": {},
   "source": [
    "### 📝 Explicación del código anterior\n",
    "- Aquí se genera una gráfica con `Seaborn` o `Matplotlib`. Estas herramientas ayudan a visualizar los datos para identificar patrones o distribuciones relevantes."
   ]
  },
  {
   "cell_type": "markdown",
   "id": "d16d6145",
   "metadata": {},
   "source": [
    "<h3 style=\"\n",
    "    color: white; \n",
    "    text-align: center; \n",
    "    background-color: #3498db; \n",
    "    border-radius: 10px;\n",
    "    padding: 10px;\">\n",
    "Distribución de la puntuación de fidelidad\n",
    "</h3>\n"
   ]
  },
  {
   "cell_type": "code",
   "execution_count": null,
   "id": "866500f1",
   "metadata": {},
   "outputs": [],
   "source": [
    "sns.histplot(df['loyalty_score'], bins=30, color='green')\n",
    "plt.title(\"Distribution of Loyalty Score\")\n",
    "plt.xlabel(\"Loyalty Score\")\n",
    "plt.show()\n"
   ]
  },
  {
   "cell_type": "markdown",
   "id": "698f3062",
   "metadata": {},
   "source": [
    "### 📝 Explicación del código anterior\n",
    "- Aquí se genera una gráfica con `Seaborn` o `Matplotlib`. Estas herramientas ayudan a visualizar los datos para identificar patrones o distribuciones relevantes."
   ]
  },
  {
   "cell_type": "markdown",
   "id": "c8014a46",
   "metadata": {},
   "source": [
    "<h3 style=\"\n",
    "    color: white; \n",
    "    text-align: center; \n",
    "    background-color: #3498db; \n",
    "    border-radius: 10px;\n",
    "    padding: 10px;\">\n",
    " Distribución del riesgo de abandono\n",
    "</h3>\n"
   ]
  },
  {
   "cell_type": "code",
   "execution_count": null,
   "id": "3d96e1ad",
   "metadata": {},
   "outputs": [],
   "source": [
    "sns.histplot(df['churn_risk'], bins=30, color='orange')\n",
    "plt.title(\"Churn Risk Distribution\")\n",
    "plt.xlabel(\"Churn Risk\")\n",
    "plt.show()\n"
   ]
  },
  {
   "cell_type": "markdown",
   "id": "dd8c9500",
   "metadata": {},
   "source": [
    "### 📝 Explicación del código anterior\n",
    "- Aquí se genera una gráfica con `Seaborn` o `Matplotlib`. Estas herramientas ayudan a visualizar los datos para identificar patrones o distribuciones relevantes."
   ]
  },
  {
   "cell_type": "markdown",
   "id": "c1f317e5",
   "metadata": {},
   "source": [
    "<h3 style=\"\n",
    "    color: white; \n",
    "    text-align: center; \n",
    "    background-color: #3498db; \n",
    "    border-radius: 10px;\n",
    "    padding: 10px;\">\n",
    " Recuento de clientes por país\n",
    "</h3>\n"
   ]
  },
  {
   "cell_type": "code",
   "execution_count": null,
   "id": "b49e88d4",
   "metadata": {},
   "outputs": [],
   "source": [
    "top_countries = df['country'].value_counts().nlargest(10)\n",
    "sns.barplot(x=top_countries.values, y=top_countries.index, palette=\"viridis\")\n",
    "plt.title(\"Top 10 Countries by Customer Count\")\n",
    "plt.xlabel(\"Number of Customers\")\n",
    "plt.show()\n"
   ]
  },
  {
   "cell_type": "markdown",
   "id": "a3e78358",
   "metadata": {},
   "source": [
    "### 📝 Explicación del código anterior\n",
    "- Aquí se genera una gráfica con `Seaborn` o `Matplotlib`. Estas herramientas ayudan a visualizar los datos para identificar patrones o distribuciones relevantes."
   ]
  },
  {
   "cell_type": "markdown",
   "id": "beac7d68",
   "metadata": {},
   "source": [
    "<h3 style=\"\n",
    "    color: white; \n",
    "    text-align: center; \n",
    "    background-color: #3498db; \n",
    "    border-radius: 10px;\n",
    "    padding: 10px;\">\n",
    "Valores promedio del pedido vs puntuación de fidelidad\n",
    "</h3>\n"
   ]
  },
  {
   "cell_type": "code",
   "execution_count": null,
   "id": "21a2d784",
   "metadata": {},
   "outputs": [],
   "source": [
    "sns.scatterplot(data=df, x='avg_order_value', y='loyalty_score', hue='is_fraudulent')\n",
    "plt.title(\"Avg Order Value vs Loyalty Score (with Fraud Indicator)\")\n",
    "plt.show()\n"
   ]
  },
  {
   "cell_type": "markdown",
   "id": "62723532",
   "metadata": {},
   "source": [
    "### 📝 Explicación del código anterior\n",
    "- Aquí se genera una gráfica con `Seaborn` o `Matplotlib`. Estas herramientas ayudan a visualizar los datos para identificar patrones o distribuciones relevantes."
   ]
  },
  {
   "cell_type": "markdown",
   "id": "e968477d",
   "metadata": {},
   "source": [
    "<h3 style=\"\n",
    "    color: white; \n",
    "    text-align: center; \n",
    "    background-color: #3498db; \n",
    "    border-radius: 10px;\n",
    "    padding: 10px;\">\n",
    "Distribución de la tasa de apertura de correo electrónico\n",
    "</h3>\n"
   ]
  },
  {
   "cell_type": "code",
   "execution_count": null,
   "id": "c2434599",
   "metadata": {},
   "outputs": [],
   "source": [
    "sns.boxplot(data=df, x='gender', y='email_open_rate', palette='coolwarm')\n",
    "plt.title(\"Email Open Rate by Gender\")\n",
    "plt.show()\n"
   ]
  },
  {
   "cell_type": "markdown",
   "id": "ee5c2d00",
   "metadata": {},
   "source": [
    "### 📝 Explicación del código anterior\n",
    "- Aquí se genera una gráfica con `Seaborn` o `Matplotlib`. Estas herramientas ayudan a visualizar los datos para identificar patrones o distribuciones relevantes."
   ]
  },
  {
   "cell_type": "markdown",
   "id": "fad53db7",
   "metadata": {},
   "source": [
    "<h3 style=\"\n",
    "    color: white; \n",
    "    text-align: center; \n",
    "    background-color: #3498db; \n",
    "    border-radius: 10px;\n",
    "    padding: 10px;\">\n",
    "Mapa de calor de correlación\n",
    "</h3>\n"
   ]
  },
  {
   "cell_type": "code",
   "execution_count": null,
   "id": "629e48e7",
   "metadata": {},
   "outputs": [],
   "source": [
    "plt.figure(figsize=(10, 6))\n",
    "corr = df[['age', 'avg_order_value', 'total_orders', 'last_purchase', 'loyalty_score', 'churn_risk']].corr()\n",
    "sns.heatmap(corr, annot=True, cmap='coolwarm', linewidths=0.5)\n",
    "plt.title(\"Correlation Matrix\")\n",
    "plt.show()\n"
   ]
  },
  {
   "cell_type": "markdown",
   "id": "1a67829c",
   "metadata": {},
   "source": [
    "### 📝 Explicación del código anterior\n",
    "- Aquí se genera una gráfica con `Seaborn` o `Matplotlib`. Estas herramientas ayudan a visualizar los datos para identificar patrones o distribuciones relevantes."
   ]
  },
  {
   "cell_type": "markdown",
   "id": "99e829a7",
   "metadata": {},
   "source": [
    "<h3 style=\"\n",
    "    color: white; \n",
    "    text-align: center; \n",
    "    background-color: #3498db; \n",
    "    border-radius: 10px;\n",
    "    padding: 10px;\">\n",
    "Puntuación de fidelización vs. riesgo de abandono\n",
    "</h3>\n"
   ]
  },
  {
   "cell_type": "code",
   "execution_count": null,
   "id": "782c72fe",
   "metadata": {},
   "outputs": [],
   "source": [
    "sns.scatterplot(data=df, x='loyalty_score', y='churn_risk', hue='is_fraudulent')\n",
    "plt.title(\"Loyalty Score vs Churn Risk\")\n",
    "plt.show()\n"
   ]
  },
  {
   "cell_type": "markdown",
   "id": "39c2be9f",
   "metadata": {},
   "source": [
    "### 📝 Explicación del código anterior\n",
    "- Aquí se genera una gráfica con `Seaborn` o `Matplotlib`. Estas herramientas ayudan a visualizar los datos para identificar patrones o distribuciones relevantes."
   ]
  },
  {
   "cell_type": "markdown",
   "id": "121a2189",
   "metadata": {},
   "source": [
    "<h3 style=\"\n",
    "    color: white; \n",
    "    text-align: center; \n",
    "    background-color: #3498db; \n",
    "    border-radius: 10px;\n",
    "    padding: 10px;\">\n",
    "Categoría de producto preferida\n",
    "</h3>\n"
   ]
  },
  {
   "cell_type": "code",
   "execution_count": null,
   "id": "215d1d03",
   "metadata": {},
   "outputs": [],
   "source": [
    "top_categories = df['preferred_category'].value_counts().nlargest(10)\n",
    "sns.barplot(x=top_categories.values, y=top_categories.index, palette='muted')\n",
    "plt.title(\"Top 10 Preferred Product Categories\")\n",
    "plt.xlabel(\"Number of Customers\")\n",
    "plt.show()\n"
   ]
  },
  {
   "cell_type": "markdown",
   "id": "bfbe6857",
   "metadata": {},
   "source": [
    "### 📝 Explicación del código anterior\n",
    "- Aquí se genera una gráfica con `Seaborn` o `Matplotlib`. Estas herramientas ayudan a visualizar los datos para identificar patrones o distribuciones relevantes."
   ]
  },
  {
   "cell_type": "markdown",
   "id": "f3d0cd1b",
   "metadata": {},
   "source": [
    "<h3 style=\"\n",
    "    color: white; \n",
    "    text-align: center; \n",
    "    background-color: #3498db; \n",
    "    border-radius: 10px;\n",
    "    padding: 10px;\">\n",
    "Distribución total de pedidos\n",
    "</h3>\n"
   ]
  },
  {
   "cell_type": "code",
   "execution_count": null,
   "id": "2bbb8c8e",
   "metadata": {},
   "outputs": [],
   "source": [
    "sns.histplot(df['total_orders'], bins=50, color='purple')\n",
    "plt.title(\"Total Orders Distribution\")\n",
    "plt.xlabel(\"Number of Orders\")\n",
    "plt.show()\n"
   ]
  },
  {
   "cell_type": "markdown",
   "id": "b896fc94",
   "metadata": {},
   "source": [
    "### 📝 Explicación del código anterior\n",
    "- Aquí se genera una gráfica con `Seaborn` o `Matplotlib`. Estas herramientas ayudan a visualizar los datos para identificar patrones o distribuciones relevantes."
   ]
  },
  {
   "cell_type": "markdown",
   "id": "e734017d",
   "metadata": {},
   "source": [
    "<h3 style=\"\n",
    "    color: white; \n",
    "    text-align: center; \n",
    "    background-color: #3498db; \n",
    "    border-radius: 10px;\n",
    "    padding: 10px;\">\n",
    "Tiempo transcurrido desde que el cliente se unió\n",
    "</h3>\n"
   ]
  },
  {
   "cell_type": "code",
   "execution_count": null,
   "id": "f17ffb7f",
   "metadata": {},
   "outputs": [],
   "source": [
    "df['customer_since'] = pd.to_datetime(df['customer_since'])\n",
    "df['years_with_company'] = datetime.now().year - df['customer_since'].dt.year\n",
    "\n",
    "sns.histplot(df['years_with_company'], bins=10)\n",
    "plt.title(\"Years Since Customer Joined\")\n",
    "plt.xlabel(\"Years with Company\")\n",
    "plt.show()\n"
   ]
  },
  {
   "cell_type": "markdown",
   "id": "fb2d5b6a",
   "metadata": {},
   "source": [
    "### 📝 Explicación del código anterior\n",
    "- Aquí se genera una gráfica con `Seaborn` o `Matplotlib`. Estas herramientas ayudan a visualizar los datos para identificar patrones o distribuciones relevantes."
   ]
  },
  {
   "cell_type": "markdown",
   "id": "6e24f40a",
   "metadata": {},
   "source": [
    "<h3 style=\"\n",
    "    color: white; \n",
    "    text-align: center; \n",
    "    background-color: #3498db; \n",
    "    border-radius: 10px;\n",
    "    padding: 10px;\">\n",
    "Puntuación de fidelidad por país\n",
    "</h3>\n"
   ]
  },
  {
   "cell_type": "code",
   "execution_count": null,
   "id": "3034bdf6",
   "metadata": {},
   "outputs": [],
   "source": [
    "top_countries = df['country'].value_counts().nlargest(5).index\n",
    "sns.boxplot(data=df[df['country'].isin(top_countries)], x='country', y='loyalty_score')\n",
    "plt.title(\"Loyalty Score by Country\")\n",
    "plt.show()\n"
   ]
  },
  {
   "cell_type": "markdown",
   "id": "6d1691a9",
   "metadata": {},
   "source": [
    "### 📝 Explicación del código anterior\n",
    "- Aquí se genera una gráfica con `Seaborn` o `Matplotlib`. Estas herramientas ayudan a visualizar los datos para identificar patrones o distribuciones relevantes."
   ]
  },
  {
   "cell_type": "markdown",
   "id": "db30d40c",
   "metadata": {},
   "source": [
    "<h3 style=\"\n",
    "    color: white; \n",
    "    text-align: center; \n",
    "    background-color: #3498db; \n",
    "    border-radius: 10px;\n",
    "    padding: 10px;\">\n",
    "Tasa de fraude por país\n",
    "</h3>\n"
   ]
  },
  {
   "cell_type": "code",
   "execution_count": null,
   "id": "cd831624",
   "metadata": {},
   "outputs": [],
   "source": [
    "fraud_rate = df.groupby('country')['is_fraudulent'].mean().sort_values(ascending=False).head(10)\n",
    "fraud_rate.plot(kind='barh', color='red')\n",
    "plt.title(\"Top 10 Countries with Highest Fraud Rate\")\n",
    "plt.xlabel(\"Fraud Rate\")\n",
    "plt.show()\n"
   ]
  },
  {
   "cell_type": "markdown",
   "id": "16f3e580",
   "metadata": {},
   "source": [
    "### 📝 Explicación del código anterior\n",
    "- Aquí se genera una gráfica con `Seaborn` o `Matplotlib`. Estas herramientas ayudan a visualizar los datos para identificar patrones o distribuciones relevantes."
   ]
  },
  {
   "cell_type": "markdown",
   "id": "bd84efe2",
   "metadata": {},
   "source": [
    "<h3 style=\"\n",
    "    color: white; \n",
    "    text-align: center; \n",
    "    background-color: #3498db; \n",
    "    border-radius: 10px;\n",
    "    padding: 10px;\">\n",
    "Preparación del conjunto de datos\n",
    "</h3>\n"
   ]
  },
  {
   "cell_type": "code",
   "execution_count": null,
   "id": "c3ce439c",
   "metadata": {},
   "outputs": [],
   "source": [
    "from sklearn.model_selection import train_test_split\n",
    "from sklearn.preprocessing import StandardScaler, LabelEncoder"
   ]
  },
  {
   "cell_type": "markdown",
   "id": "92d004fc",
   "metadata": {},
   "source": [
    "### 📝 Explicación del código anterior\n",
    "- Este bloque realiza una operación de análisis, limpieza o transformación de los datos. Es parte del flujo de preparación del dataset."
   ]
  },
  {
   "cell_type": "code",
   "execution_count": null,
   "id": "a263a65d",
   "metadata": {},
   "outputs": [],
   "source": [
    "# Categorical encode (gender, preferred_category, country)\n",
    "cat_cols = ['gender', 'preferred_category', 'country']\n",
    "df_encoded = pd.get_dummies(df, columns=cat_cols, drop_first=True)"
   ]
  },
  {
   "cell_type": "markdown",
   "id": "f1cbf668",
   "metadata": {},
   "source": [
    "### 📝 Explicación del código anterior\n",
    "- Este bloque realiza una operación de análisis, limpieza o transformación de los datos. Es parte del flujo de preparación del dataset."
   ]
  },
  {
   "cell_type": "code",
   "execution_count": null,
   "id": "3ec5e196",
   "metadata": {},
   "outputs": [],
   "source": [
    "# Target (binary classification): is_fraudulent\n",
    "X = df_encoded.drop(['customer_id', 'is_fraudulent', 'customer_since'], axis=1)\n",
    "y = df_encoded['is_fraudulent']"
   ]
  },
  {
   "cell_type": "markdown",
   "id": "b6e42b00",
   "metadata": {},
   "source": [
    "### 📝 Explicación del código anterior\n",
    "- Este bloque realiza una operación de análisis, limpieza o transformación de los datos. Es parte del flujo de preparación del dataset."
   ]
  },
  {
   "cell_type": "code",
   "execution_count": null,
   "id": "b7abe967",
   "metadata": {},
   "outputs": [],
   "source": [
    "# Scaling\n",
    "scaler = StandardScaler()\n",
    "X_scaled = scaler.fit_transform(X)\n",
    "\n",
    "# Train-test split\n",
    "X_train, X_test, y_train, y_test = train_test_split(X_scaled, y, test_size=0.2, random_state=42)"
   ]
  },
  {
   "cell_type": "markdown",
   "id": "7f95b1d1",
   "metadata": {},
   "source": [
    "### 📝 Explicación del código anterior\n",
    "- Este bloque entrena un modelo de machine learning o realiza predicciones. Se usa `fit()` para entrenar y `predict()` para generar resultados sobre datos nuevos."
   ]
  },
  {
   "cell_type": "markdown",
   "id": "c443b7b7",
   "metadata": {},
   "source": [
    "<h3 style=\"\n",
    "    color: white; \n",
    "    text-align: center; \n",
    "    background-color: #3498db; \n",
    "    border-radius: 10px;\n",
    "    padding: 10px;\">\n",
    "10 modelos de clasificación\n",
    "</h3>\n"
   ]
  },
  {
   "cell_type": "code",
   "execution_count": null,
   "id": "eff7417f",
   "metadata": {},
   "outputs": [],
   "source": [
    "from sklearn.metrics import accuracy_score, classification_report\n",
    "def evaluate_model(model, name):\n",
    "    model.fit(X_train, y_train)\n",
    "    y_pred = model.predict(X_test)\n",
    "    acc = accuracy_score(y_test, y_pred)\n",
    "    print(f\"\\n{name} Accuracy: {acc:.4f}\")\n",
    "    print(classification_report(y_test, y_pred))\n"
   ]
  },
  {
   "cell_type": "markdown",
   "id": "5e4cb446",
   "metadata": {},
   "source": [
    "### 📝 Explicación del código anterior\n",
    "- Este bloque entrena un modelo de machine learning o realiza predicciones. Se usa `fit()` para entrenar y `predict()` para generar resultados sobre datos nuevos."
   ]
  },
  {
   "cell_type": "markdown",
   "id": "8200b21e",
   "metadata": {},
   "source": [
    "<h3 style=\"\n",
    "    color: white; \n",
    "    text-align: center; \n",
    "    background-color: #3498db; \n",
    "    border-radius: 10px;\n",
    "    padding: 10px;\">\n",
    " Logistic Regression\n",
    "</h3>\n"
   ]
  },
  {
   "cell_type": "code",
   "execution_count": null,
   "id": "12d824d2",
   "metadata": {},
   "outputs": [],
   "source": [
    "from sklearn.linear_model import LogisticRegression\n",
    "evaluate_model(LogisticRegression(), \"Logistic Regression\")\n"
   ]
  },
  {
   "cell_type": "markdown",
   "id": "ea8735e9",
   "metadata": {},
   "source": [
    "### 📝 Explicación del código anterior\n",
    "- Este bloque realiza una operación de análisis, limpieza o transformación de los datos. Es parte del flujo de preparación del dataset."
   ]
  },
  {
   "cell_type": "markdown",
   "id": "82c9c559",
   "metadata": {},
   "source": [
    "<h3 style=\"\n",
    "    color: white; \n",
    "    text-align: center; \n",
    "    background-color: #3498db; \n",
    "    border-radius: 10px;\n",
    "    padding: 10px;\">\n",
    " K-Nearest Neighbors\n",
    "</h3>\n"
   ]
  },
  {
   "cell_type": "code",
   "execution_count": null,
   "id": "ea98e53f",
   "metadata": {},
   "outputs": [],
   "source": [
    "from sklearn.neighbors import KNeighborsClassifier\n",
    "evaluate_model(KNeighborsClassifier(), \"K-Nearest Neighbors\")\n"
   ]
  },
  {
   "cell_type": "markdown",
   "id": "166c6a6f",
   "metadata": {},
   "source": [
    "### 📝 Explicación del código anterior\n",
    "- Este bloque realiza una operación de análisis, limpieza o transformación de los datos. Es parte del flujo de preparación del dataset."
   ]
  },
  {
   "cell_type": "markdown",
   "id": "49427948",
   "metadata": {},
   "source": [
    "<h3 style=\"\n",
    "    color: white; \n",
    "    text-align: center; \n",
    "    background-color: #3498db; \n",
    "    border-radius: 10px;\n",
    "    padding: 10px;\">\n",
    " Support Vector Machine\n",
    "</h3>\n"
   ]
  },
  {
   "cell_type": "code",
   "execution_count": null,
   "id": "9d249dd2",
   "metadata": {},
   "outputs": [],
   "source": [
    "from sklearn.svm import SVC\n",
    "evaluate_model(SVC(), \"Support Vector Classifier\")\n"
   ]
  },
  {
   "cell_type": "markdown",
   "id": "5cd34fdb",
   "metadata": {},
   "source": [
    "### 📝 Explicación del código anterior\n",
    "- Este bloque realiza una operación de análisis, limpieza o transformación de los datos. Es parte del flujo de preparación del dataset."
   ]
  },
  {
   "cell_type": "markdown",
   "id": "8439f32f",
   "metadata": {},
   "source": [
    "<h3 style=\"\n",
    "    color: white; \n",
    "    text-align: center; \n",
    "    background-color: #3498db; \n",
    "    border-radius: 10px;\n",
    "    padding: 10px;\">\n",
    " Decision Tree\n",
    "</h3>\n"
   ]
  },
  {
   "cell_type": "code",
   "execution_count": null,
   "id": "8cf80bbf",
   "metadata": {},
   "outputs": [],
   "source": [
    "from sklearn.tree import DecisionTreeClassifier\n",
    "evaluate_model(DecisionTreeClassifier(), \"Decision Tree\")\n"
   ]
  },
  {
   "cell_type": "markdown",
   "id": "adfa0cd6",
   "metadata": {},
   "source": [
    "### 📝 Explicación del código anterior\n",
    "- Este bloque realiza una operación de análisis, limpieza o transformación de los datos. Es parte del flujo de preparación del dataset."
   ]
  },
  {
   "cell_type": "markdown",
   "id": "d33e3ce8",
   "metadata": {},
   "source": [
    "<h3 style=\"\n",
    "    color: white; \n",
    "    text-align: center; \n",
    "    background-color: #3498db; \n",
    "    border-radius: 10px;\n",
    "    padding: 10px;\">\n",
    " Random Forest\n",
    "</h3>\n"
   ]
  },
  {
   "cell_type": "code",
   "execution_count": null,
   "id": "1a9ec78e",
   "metadata": {},
   "outputs": [],
   "source": [
    "from sklearn.ensemble import RandomForestClassifier\n",
    "evaluate_model(RandomForestClassifier(), \"Random Forest\")\n"
   ]
  },
  {
   "cell_type": "markdown",
   "id": "a33871bc",
   "metadata": {},
   "source": [
    "### 📝 Explicación del código anterior\n",
    "- Este bloque realiza una operación de análisis, limpieza o transformación de los datos. Es parte del flujo de preparación del dataset."
   ]
  },
  {
   "cell_type": "markdown",
   "id": "85997641",
   "metadata": {},
   "source": [
    "<h3 style=\"\n",
    "    color: white; \n",
    "    text-align: center; \n",
    "    background-color: #3498db; \n",
    "    border-radius: 10px;\n",
    "    padding: 10px;\">\n",
    " XGBoot\n",
    "</h3>\n"
   ]
  },
  {
   "cell_type": "code",
   "execution_count": null,
   "id": "6f1bec26",
   "metadata": {},
   "outputs": [],
   "source": [
    "from xgboost import XGBClassifier\n",
    "evaluate_model(XGBClassifier(use_label_encoder=False, eval_metric='logloss'), \"XGBoost\")\n"
   ]
  },
  {
   "cell_type": "markdown",
   "id": "6be794c7",
   "metadata": {},
   "source": [
    "### 📝 Explicación del código anterior\n",
    "- Este bloque realiza una operación de análisis, limpieza o transformación de los datos. Es parte del flujo de preparación del dataset."
   ]
  },
  {
   "cell_type": "markdown",
   "id": "d620a7d0",
   "metadata": {},
   "source": [
    "<h3 style=\"\n",
    "    color: white; \n",
    "    text-align: center; \n",
    "    background-color: #3498db; \n",
    "    border-radius: 10px;\n",
    "    padding: 10px;\">\n",
    " Greadient Boosting\n",
    "</h3>\n"
   ]
  },
  {
   "cell_type": "code",
   "execution_count": null,
   "id": "86a3c30d",
   "metadata": {},
   "outputs": [],
   "source": [
    "from sklearn.ensemble import GradientBoostingClassifier\n",
    "evaluate_model(GradientBoostingClassifier(), \"Gradient Boosting\")\n"
   ]
  },
  {
   "cell_type": "markdown",
   "id": "5a5efa27",
   "metadata": {},
   "source": [
    "### 📝 Explicación del código anterior\n",
    "- Este bloque realiza una operación de análisis, limpieza o transformación de los datos. Es parte del flujo de preparación del dataset."
   ]
  },
  {
   "cell_type": "markdown",
   "id": "22725488",
   "metadata": {},
   "source": [
    "<h3 style=\"\n",
    "    color: white; \n",
    "    text-align: center; \n",
    "    background-color: #3498db; \n",
    "    border-radius: 10px;\n",
    "    padding: 10px;\">\n",
    " AdaBoot\n",
    "</h3>\n"
   ]
  },
  {
   "cell_type": "code",
   "execution_count": null,
   "id": "0bf81953",
   "metadata": {},
   "outputs": [],
   "source": [
    "from sklearn.ensemble import AdaBoostClassifier\n",
    "evaluate_model(AdaBoostClassifier(), \"AdaBoost\")\n"
   ]
  },
  {
   "cell_type": "markdown",
   "id": "cb737826",
   "metadata": {},
   "source": [
    "### 📝 Explicación del código anterior\n",
    "- Este bloque realiza una operación de análisis, limpieza o transformación de los datos. Es parte del flujo de preparación del dataset."
   ]
  },
  {
   "cell_type": "markdown",
   "id": "8ab158be",
   "metadata": {},
   "source": [
    "<h3 style=\"\n",
    "    color: white; \n",
    "    text-align: center; \n",
    "    background-color: #3498db; \n",
    "    border-radius: 10px;\n",
    "    padding: 10px;\">\n",
    "  Naive Bayes\n",
    "</h3>\n"
   ]
  },
  {
   "cell_type": "code",
   "execution_count": null,
   "id": "e36b33a6",
   "metadata": {},
   "outputs": [],
   "source": [
    "from sklearn.naive_bayes import GaussianNB\n",
    "evaluate_model(GaussianNB(), \"Naive Bayes\")\n"
   ]
  },
  {
   "cell_type": "markdown",
   "id": "ad21a418",
   "metadata": {},
   "source": [
    "### 📝 Explicación del código anterior\n",
    "- Este bloque realiza una operación de análisis, limpieza o transformación de los datos. Es parte del flujo de preparación del dataset."
   ]
  },
  {
   "cell_type": "markdown",
   "id": "b0c8b509",
   "metadata": {},
   "source": [
    "<h3 style=\"\n",
    "    color: white; \n",
    "    text-align: center; \n",
    "    background-color: #3498db; \n",
    "    border-radius: 10px;\n",
    "    padding: 10px;\">\n",
    "  LightGBM\n",
    "</h3>\n"
   ]
  },
  {
   "cell_type": "code",
   "execution_count": null,
   "id": "4b08738a",
   "metadata": {},
   "outputs": [],
   "source": [
    "from lightgbm import LGBMClassifier\n",
    "evaluate_model(LGBMClassifier(), \"LightGBM\")\n"
   ]
  },
  {
   "cell_type": "markdown",
   "id": "94a70090",
   "metadata": {},
   "source": [
    "### 📝 Explicación del código anterior\n",
    "- Este bloque realiza una operación de análisis, limpieza o transformación de los datos. Es parte del flujo de preparación del dataset."
   ]
  },
  {
   "cell_type": "markdown",
   "id": "79d55e63",
   "metadata": {},
   "source": [
    "<h3 style=\"\n",
    "    color: white; \n",
    "    text-align: center; \n",
    "    background-color: #3498db; \n",
    "    border-radius: 10px;\n",
    "    padding: 10px;\">\n",
    "Modelos de agrupación\n",
    "</h3>\n"
   ]
  },
  {
   "cell_type": "code",
   "execution_count": null,
   "id": "5ee3613a",
   "metadata": {},
   "outputs": [],
   "source": [
    "from sklearn.cluster import KMeans, DBSCAN, AgglomerativeClustering\n",
    "import matplotlib.pyplot as plt\n",
    "from sklearn.decomposition import PCA\n",
    "\n",
    "clust_features = ['avg_order_value', 'total_orders', 'loyalty_score', 'email_open_rate', 'churn_risk']\n",
    "X_clust = df[clust_features].copy()\n",
    "X_clust_scaled = StandardScaler().fit_transform(X_clust)\n",
    "\n",
    "# 2D visualisation\n",
    "pca = PCA(n_components=2)\n",
    "X_pca = pca.fit_transform(X_clust_scaled)\n"
   ]
  },
  {
   "cell_type": "markdown",
   "id": "56ddafcd",
   "metadata": {},
   "source": [
    "### 📝 Explicación del código anterior\n",
    "- Este bloque entrena un modelo de machine learning o realiza predicciones. Se usa `fit()` para entrenar y `predict()` para generar resultados sobre datos nuevos."
   ]
  },
  {
   "cell_type": "markdown",
   "id": "b4ed3dfe",
   "metadata": {},
   "source": [
    "<h3 style=\"\n",
    "    color: white; \n",
    "    text-align: center; \n",
    "    background-color: #3498db; \n",
    "    border-radius: 10px;\n",
    "    padding: 10px;\">\n",
    "  KMeans Clustering\n",
    "</h3>\n"
   ]
  },
  {
   "cell_type": "code",
   "execution_count": null,
   "id": "a5e57421",
   "metadata": {},
   "outputs": [],
   "source": [
    "kmeans = KMeans(n_clusters=3, random_state=42)\n",
    "df['kmeans_cluster'] = kmeans.fit_predict(X_clust_scaled)\n",
    "\n",
    "plt.scatter(X_pca[:, 0], X_pca[:, 1], c=df['kmeans_cluster'], cmap='Set1')\n",
    "plt.title(\"KMeans Clustering (3 clusters)\")\n",
    "plt.show()\n"
   ]
  },
  {
   "cell_type": "markdown",
   "id": "2fef5fcf",
   "metadata": {},
   "source": [
    "### 📝 Explicación del código anterior\n",
    "- Aquí se genera una gráfica con `Seaborn` o `Matplotlib`. Estas herramientas ayudan a visualizar los datos para identificar patrones o distribuciones relevantes."
   ]
  },
  {
   "cell_type": "markdown",
   "id": "5fb3ca08",
   "metadata": {},
   "source": [
    "<h3 style=\"\n",
    "    color: white; \n",
    "    text-align: center; \n",
    "    background-color: #3498db; \n",
    "    border-radius: 10px;\n",
    "    padding: 10px;\">\n",
    "  DBSCAN Clustering\n",
    "</h3>\n"
   ]
  },
  {
   "cell_type": "code",
   "execution_count": null,
   "id": "27375a67",
   "metadata": {},
   "outputs": [],
   "source": [
    "dbscan = DBSCAN(eps=1.2, min_samples=5)\n",
    "df['dbscan_cluster'] = dbscan.fit_predict(X_clust_scaled)\n",
    "\n",
    "plt.scatter(X_pca[:, 0], X_pca[:, 1], c=df['dbscan_cluster'], cmap='Set2')\n",
    "plt.title(\"DBSCAN Clustering\")\n",
    "plt.show()\n"
   ]
  },
  {
   "cell_type": "markdown",
   "id": "f5a62e2c",
   "metadata": {},
   "source": [
    "### 📝 Explicación del código anterior\n",
    "- Aquí se genera una gráfica con `Seaborn` o `Matplotlib`. Estas herramientas ayudan a visualizar los datos para identificar patrones o distribuciones relevantes."
   ]
  },
  {
   "cell_type": "markdown",
   "id": "cbe931ba",
   "metadata": {},
   "source": [
    "<h3 style=\"\n",
    "    color: white; \n",
    "    text-align: center; \n",
    "    background-color: #3498db; \n",
    "    border-radius: 10px;\n",
    "    padding: 10px;\">\n",
    "  Hierarchical Clustering\n",
    "</h3>\n"
   ]
  },
  {
   "cell_type": "code",
   "execution_count": null,
   "id": "e2dc88e9",
   "metadata": {},
   "outputs": [],
   "source": [
    "agglo = AgglomerativeClustering(n_clusters=3)\n",
    "df['agglo_cluster'] = agglo.fit_predict(X_clust_scaled)\n",
    "\n",
    "plt.scatter(X_pca[:, 0], X_pca[:, 1], c=df['agglo_cluster'], cmap='Set3')\n",
    "plt.title(\"Agglomerative Clustering\")\n",
    "plt.show()\n"
   ]
  },
  {
   "cell_type": "markdown",
   "id": "ee32fcc7",
   "metadata": {},
   "source": [
    "### 📝 Explicación del código anterior\n",
    "- Aquí se genera una gráfica con `Seaborn` o `Matplotlib`. Estas herramientas ayudan a visualizar los datos para identificar patrones o distribuciones relevantes."
   ]
  }
 ],
 "metadata": {},
 "nbformat": 4,
 "nbformat_minor": 5
}
